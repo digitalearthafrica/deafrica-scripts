{
 "cells": [
  {
   "cell_type": "code",
   "execution_count": 6,
   "metadata": {},
   "outputs": [],
   "source": [
    "\n",
    "import xarray as xr\n",
    "import gzip\n",
    "import rasterio\n",
    "import os\n",
    "import urllib\n",
    "from datacube.utils.cog import write_cog\n",
    "from datacube.utils.geometry import assign_crs"
   ]
  },
  {
   "cell_type": "code",
   "execution_count": 11,
   "metadata": {},
   "outputs": [],
   "source": [
    "def download_and_cog(year, month):\n",
    "    \n",
    "    #set up file strings\n",
    "    filename = f\"chirps-v2.0.{year}.{month}.tif\"\n",
    "    out_filename = f\"chirps_afr_monthly/chirps-v2.0_{year}.{month}.tif\"\n",
    "    url = f\"https://data.chc.ucsb.edu/products/CHIRPS-2.0/africa_monthly/tifs/{filename}\"\n",
    "    \n",
    "    # download url\n",
    "    if not os.path.exists(out_filename):\n",
    "        response = urllib.request.urlopen(url)\n",
    "    \n",
    "    #unzip\n",
    "    with gzip.GzipFile(fileobj=response, mode='rb') as gzip_infile:\n",
    "        \n",
    "        #grab tif data and metadata\n",
    "        with rasterio.open(gzip_infile, 'r') as src:\n",
    "            raster=src.read()\n",
    "            transform=src.transform\n",
    "            crs=src.crs\n",
    "            height=raster.shape[1]\n",
    "            width=raster.shape[2]\n",
    "        \n",
    "        #write to disk as geotiff\n",
    "        with rasterio.open(out_filename,\n",
    "                           'w',\n",
    "                           driver='GTiff',\n",
    "                           height=height,\n",
    "                           width=width,\n",
    "                           count=1,\n",
    "                           dtype=rasterio.float32,\n",
    "                           crs=crs,\n",
    "                           transform=transform\n",
    "                          ) as dst:\n",
    "            dst.write(raster)\n",
    "    \n",
    "    #open as xarray and write as cog\n",
    "    da = assign_crs(xr.open_rasterio(out_filename))\n",
    "    write_cog(da,\n",
    "              fname=out_filename,\n",
    "              overwrite=True)\n"
   ]
  },
  {
   "cell_type": "code",
   "execution_count": 12,
   "metadata": {},
   "outputs": [
    {
     "name": "stdout",
     "output_type": "stream",
     "text": [
      "EPSG:4326\n"
     ]
    }
   ],
   "source": [
    "download_and_cog('1981', '02')"
   ]
  },
  {
   "cell_type": "code",
   "execution_count": 16,
   "metadata": {},
   "outputs": [],
   "source": [
    "# xr.open_rasterio('chirps_afr_monthly/chirps-v2.0_1981.01.tif').squeeze().plot.imshow(vmin=0);"
   ]
  },
  {
   "cell_type": "code",
   "execution_count": null,
   "metadata": {},
   "outputs": [],
   "source": []
  }
 ],
 "metadata": {
  "kernelspec": {
   "display_name": "Python 3",
   "language": "python",
   "name": "python3"
  },
  "language_info": {
   "codemirror_mode": {
    "name": "ipython",
    "version": 3
   },
   "file_extension": ".py",
   "mimetype": "text/x-python",
   "name": "python",
   "nbconvert_exporter": "python",
   "pygments_lexer": "ipython3",
   "version": "3.8.10"
  }
 },
 "nbformat": 4,
 "nbformat_minor": 4
}
